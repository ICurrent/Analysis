{
 "cells": [
  {
   "cell_type": "markdown",
   "metadata": {},
   "source": [
    "# 8WeekSqlChallenge\n",
    "> Danny Ma's 8 WEEK SQL Challenge -- An interesting take on applying SQL in real world scenarios. \n",
    "\n",
    "\n",
    "## TABLE OF CONTENTS 📖\n",
    "\n",
    "####  [Week 1: Danny's Diner 🍜](#danny's-diner)\n",
    "\n",
    "\n",
    "####  [Week 2: Pizza Runner 🛵](#pizza-runner)\n",
    "\n",
    "\n",
    "\n",
    "## Week 1: Danny's Diner 🍜 <a name=\"danny's-diner\"></a>\n",
    "\n",
    "<p align=\"center\">\n",
    "  <img width=\"350\" height=\"350\" src=\"https://github.com/iaks23/8WeekSqlChallenge/blob/main/img/dd.png\">\n",
    "</p>\n",
    "\n",
    "\n",
    "### [![SolutionBadge](https://img.shields.io/badge/View-Solutions-blueviolet?style=for-the-badge&logo=GITHUB)](https://github.com/iaks23/8WeekSqlChallenge/tree/main/Week%201%20-%20Danny's%20Diner)\n",
    "\n",
    "## Week 2: Pizza Runner 🛵 <a name=\"pizza-runner\"></a>\n",
    "\n",
    "<p align=\"center\">\n",
    "  <img width=\"350\" height=\"350\" src=\"https://github.com/iaks23/8WeekSqlChallenge/blob/main/img/pizza.png\">\n",
    "</p>\n",
    "\n",
    "### [![SolutionBadge](https://img.shields.io/badge/View-Solutions-blueviolet?style=for-the-badge&logo=GITHUB)](https://github.com/iaks23/8WeekSqlChallenge/tree/main/Week%202%20-%20Pizza%20Runner)\n",
    "\n",
    "-----------------\n",
    "\n",
    "#### On-Going Project\n",
    "\n",
    "-----------------\n",
    "\n",
    "© Emmanuel Ogunleye, 2022\n",
    "\n",
    "For feedback or suggestions on improvements or even a quick chat, I am available on,\n",
    "\n",
    "[![LINKEDIN](https://img.shields.io/badge/LinkedIn-0077B5?style=for-the-badge&logo=linkedin&logoColor=white)](https://www.linkedin.com/in/)\n",
    "[![INSTAGRAM](https://img.shields.io/badge/Instagram-E4405F?style=for-the-badge&logo=instagram&logoColor=white)](https://www.instagram.com/)\n",
    "\n"
   ]
  }
 ],
 "metadata": {
  "kernelspec": {
   "display_name": "Python 3.8.1 32-bit",
   "language": "python",
   "name": "python3"
  },
  "language_info": {
   "name": "python",
   "version": "3.8.1"
  },
  "orig_nbformat": 4,
  "vscode": {
   "interpreter": {
    "hash": "bffce1a06dec1475aa5c8b2ff56afe0d105ef2f8d81ed5b29a6d40ee419c432d"
   }
  }
 },
 "nbformat": 4,
 "nbformat_minor": 2
}
