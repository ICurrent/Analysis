{
 "cells": [
  {
   "cell_type": "markdown",
   "metadata": {},
   "source": [
    "## Data Gathering - Twitter API"
   ]
  },
  {
   "cell_type": "markdown",
   "metadata": {},
   "source": [
    "#### Learning Goals\n",
    "1. Learn how to use Twitter API and tweepy library to gather data from twitter\n",
    "2. Learn how to work with json data\n",
    "3. Work on a case study that covers gathering data from Twitter API and webscraping"
   ]
  },
  {
   "cell_type": "markdown",
   "metadata": {},
   "source": [
    "#### Twitter API and tweepy library\n"
   ]
  },
  {
   "cell_type": "code",
   "execution_count": 1,
   "metadata": {},
   "outputs": [],
   "source": [
    "# import the necessary python packages\n",
    "\n",
    "import json # helps us work with json data\n",
    "from timeit import default_timer as timer # helps us time our code\n",
    "\n",
    "import pandas as pd # helps us create dataframes for easy data manipulation\n",
    "import requests # helps download url contents programmatically\n",
    "import tweepy # helps work with the twitter API\n",
    "from bs4 import BeautifulSoup # helps scrape data from websites"
   ]
  },
  {
   "cell_type": "code",
   "execution_count": 9,
   "metadata": {},
   "outputs": [
    {
     "name": "stdout",
     "output_type": "stream",
     "text": [
      "tweet-json copy\n"
     ]
    }
   ],
   "source": [
    "from zipfile import ZipFile\n",
    "\n",
    "with ZipFile(\"tweet-json.zip\", 'r') as file:\n",
    "    listOfFiles = file.namelist()\n",
    "    for i in listOfFiles:\n",
    "        print(i)\n",
    "        #if i.endswith('.py'):\n",
    "        file.extractall()"
   ]
  },
  {
   "cell_type": "code",
   "execution_count": 2,
   "metadata": {},
   "outputs": [],
   "source": [
    "# connect to the api and initialize API\n",
    "\n",
    "# for this next block, insert your own key, token and secrets\n",
    "consumer_key = ''\n",
    "consumer_secret = ''\n",
    "access_token = ''\n",
    "access_secret = ''\n",
    "\n",
    "# create an authorization using the consumer key and secret\n",
    "auth = tweepy.OAuthHandler(consumer_key, consumer_secret)\n",
    "# set access uding your access token and secret\n",
    "auth.set_access_token(access_token, access_secret)\n",
    "\n",
    "#call the API\n",
    "api = tweepy.API(auth, wait_on_rate_limit = True)"
   ]
  },
  {
   "cell_type": "markdown",
   "metadata": {},
   "source": [
    "##### Understanding the code provided in additional resources of Project 2"
   ]
  },
  {
   "cell_type": "code",
   "execution_count": null,
   "metadata": {},
   "outputs": [],
   "source": [
    "# read in archive data provided by udacity\n",
    "# this is because we need the tweet ids from the original dataset\n",
    "df_1 = pd.read_csv('twitter-archive-enhanced.csv')\n",
    "df_1.head()"
   ]
  },
  {
   "cell_type": "code",
   "execution_count": 4,
   "metadata": {},
   "outputs": [
    {
     "name": "stdout",
     "output_type": "stream",
     "text": [
      "<class 'numpy.ndarray'>\n"
     ]
    }
   ],
   "source": [
    "# this next line extracts the tweet ids from dataframe\n",
    "\n",
    "# the tweet ids need to be stored in a variable that's iterable\n",
    "tweet_ids = df_1.tweet_id.values\n",
    "print(type(tweet_ids))"
   ]
  },
  {
   "cell_type": "code",
   "execution_count": 5,
   "metadata": {},
   "outputs": [
    {
     "name": "stdout",
     "output_type": "stream",
     "text": [
      "<class 'list'>\n"
     ]
    }
   ],
   "source": [
    "# you can also read the tweet ids into a list\n",
    "tweet_ids = df_1.tweet_id.to_list()\n",
    "print(type(tweet_ids))\n",
    "\n",
    "# you can also explore the pandas method .iterrows() that's used for iterating over the rows of a dataframe"
   ]
  },
  {
   "cell_type": "code",
   "execution_count": 6,
   "metadata": {},
   "outputs": [
    {
     "name": "stdout",
     "output_type": "stream",
     "text": [
      "2356\n"
     ]
    }
   ],
   "source": [
    "# check the number of tweets we'll be gathering data for\n",
    "print(len(tweet_ids)) # you can also check the shape of the dataframe to know the number of rows(tweets) in the dataframe"
   ]
  },
  {
   "cell_type": "code",
   "execution_count": 8,
   "metadata": {},
   "outputs": [
    {
     "name": "stdout",
     "output_type": "stream",
     "text": [
      "Status(_api=<tweepy.api.API object at 0x000001AEF7EC3CC0>, _json={'created_at': 'Tue Aug 01 16:23:56 +0000 2017', 'id': 892420643555336193, 'id_str': '892420643555336193', 'full_text': \"This is Phineas. He's a mystical boy. Only ever appears in the hole of a donut. 13/10 https://t.co/MgUWQ76dJU\", 'truncated': False, 'display_text_range': [0, 85], 'entities': {'hashtags': [], 'symbols': [], 'user_mentions': [], 'urls': [], 'media': [{'id': 892420639486877696, 'id_str': '892420639486877696', 'indices': [86, 109], 'media_url': 'http://pbs.twimg.com/media/DGKD1-bXoAAIAUK.jpg', 'media_url_https': 'https://pbs.twimg.com/media/DGKD1-bXoAAIAUK.jpg', 'url': 'https://t.co/MgUWQ76dJU', 'display_url': 'pic.twitter.com/MgUWQ76dJU', 'expanded_url': 'https://twitter.com/dog_rates/status/892420643555336193/photo/1', 'type': 'photo', 'sizes': {'thumb': {'w': 150, 'h': 150, 'resize': 'crop'}, 'medium': {'w': 540, 'h': 528, 'resize': 'fit'}, 'small': {'w': 540, 'h': 528, 'resize': 'fit'}, 'large': {'w': 540, 'h': 528, 'resize': 'fit'}}}]}, 'extended_entities': {'media': [{'id': 892420639486877696, 'id_str': '892420639486877696', 'indices': [86, 109], 'media_url': 'http://pbs.twimg.com/media/DGKD1-bXoAAIAUK.jpg', 'media_url_https': 'https://pbs.twimg.com/media/DGKD1-bXoAAIAUK.jpg', 'url': 'https://t.co/MgUWQ76dJU', 'display_url': 'pic.twitter.com/MgUWQ76dJU', 'expanded_url': 'https://twitter.com/dog_rates/status/892420643555336193/photo/1', 'type': 'photo', 'sizes': {'thumb': {'w': 150, 'h': 150, 'resize': 'crop'}, 'medium': {'w': 540, 'h': 528, 'resize': 'fit'}, 'small': {'w': 540, 'h': 528, 'resize': 'fit'}, 'large': {'w': 540, 'h': 528, 'resize': 'fit'}}}]}, 'source': '<a href=\"http://twitter.com/download/iphone\" rel=\"nofollow\">Twitter for iPhone</a>', 'in_reply_to_status_id': None, 'in_reply_to_status_id_str': None, 'in_reply_to_user_id': None, 'in_reply_to_user_id_str': None, 'in_reply_to_screen_name': None, 'user': {'id': 4196983835, 'id_str': '4196983835', 'name': 'WeRateDogs®', 'screen_name': 'dog_rates', 'location': 'all our links ➜', 'description': 'Your Only Source For Professional Dog Ratings Instagram and Facebook ➜ WeRateDogs partnerships@weratedogs.com | nonprofit: @15outof10 ⠀⠀⠀⠀⠀⠀⠀⠀⠀⠀⠀⠀', 'url': 'https://t.co/YPc2XqmwyC', 'entities': {'url': {'urls': [{'url': 'https://t.co/YPc2XqmwyC', 'expanded_url': 'http://links.weratedogs.com', 'display_url': 'links.weratedogs.com', 'indices': [0, 23]}]}, 'description': {'urls': []}}, 'protected': False, 'followers_count': 9285736, 'friends_count': 21, 'listed_count': 7433, 'created_at': 'Sun Nov 15 21:41:29 +0000 2015', 'favourites_count': 146713, 'utc_offset': None, 'time_zone': None, 'geo_enabled': True, 'verified': True, 'statuses_count': 15673, 'lang': None, 'contributors_enabled': False, 'is_translator': False, 'is_translation_enabled': False, 'profile_background_color': '000000', 'profile_background_image_url': 'http://abs.twimg.com/images/themes/theme1/bg.png', 'profile_background_image_url_https': 'https://abs.twimg.com/images/themes/theme1/bg.png', 'profile_background_tile': False, 'profile_image_url': 'http://pbs.twimg.com/profile_images/1532010275708223491/-SBRbLoH_normal.jpg', 'profile_image_url_https': 'https://pbs.twimg.com/profile_images/1532010275708223491/-SBRbLoH_normal.jpg', 'profile_banner_url': 'https://pbs.twimg.com/profile_banners/4196983835/1617810473', 'profile_link_color': 'F5ABB5', 'profile_sidebar_border_color': '000000', 'profile_sidebar_fill_color': '000000', 'profile_text_color': '000000', 'profile_use_background_image': False, 'has_extended_profile': False, 'default_profile': False, 'default_profile_image': False, 'following': False, 'follow_request_sent': False, 'notifications': False, 'translator_type': 'none', 'withheld_in_countries': []}, 'geo': None, 'coordinates': None, 'place': None, 'contributors': None, 'is_quote_status': False, 'retweet_count': 7009, 'favorite_count': 33806, 'favorited': False, 'retweeted': False, 'possibly_sensitive': False, 'possibly_sensitive_appealable': False, 'lang': 'en'}, created_at=datetime.datetime(2017, 8, 1, 16, 23, 56, tzinfo=datetime.timezone.utc), id=892420643555336193, id_str='892420643555336193', full_text=\"This is Phineas. He's a mystical boy. Only ever appears in the hole of a donut. 13/10 https://t.co/MgUWQ76dJU\", truncated=False, display_text_range=[0, 85], entities={'hashtags': [], 'symbols': [], 'user_mentions': [], 'urls': [], 'media': [{'id': 892420639486877696, 'id_str': '892420639486877696', 'indices': [86, 109], 'media_url': 'http://pbs.twimg.com/media/DGKD1-bXoAAIAUK.jpg', 'media_url_https': 'https://pbs.twimg.com/media/DGKD1-bXoAAIAUK.jpg', 'url': 'https://t.co/MgUWQ76dJU', 'display_url': 'pic.twitter.com/MgUWQ76dJU', 'expanded_url': 'https://twitter.com/dog_rates/status/892420643555336193/photo/1', 'type': 'photo', 'sizes': {'thumb': {'w': 150, 'h': 150, 'resize': 'crop'}, 'medium': {'w': 540, 'h': 528, 'resize': 'fit'}, 'small': {'w': 540, 'h': 528, 'resize': 'fit'}, 'large': {'w': 540, 'h': 528, 'resize': 'fit'}}}]}, extended_entities={'media': [{'id': 892420639486877696, 'id_str': '892420639486877696', 'indices': [86, 109], 'media_url': 'http://pbs.twimg.com/media/DGKD1-bXoAAIAUK.jpg', 'media_url_https': 'https://pbs.twimg.com/media/DGKD1-bXoAAIAUK.jpg', 'url': 'https://t.co/MgUWQ76dJU', 'display_url': 'pic.twitter.com/MgUWQ76dJU', 'expanded_url': 'https://twitter.com/dog_rates/status/892420643555336193/photo/1', 'type': 'photo', 'sizes': {'thumb': {'w': 150, 'h': 150, 'resize': 'crop'}, 'medium': {'w': 540, 'h': 528, 'resize': 'fit'}, 'small': {'w': 540, 'h': 528, 'resize': 'fit'}, 'large': {'w': 540, 'h': 528, 'resize': 'fit'}}}]}, source='Twitter for iPhone', source_url='http://twitter.com/download/iphone', in_reply_to_status_id=None, in_reply_to_status_id_str=None, in_reply_to_user_id=None, in_reply_to_user_id_str=None, in_reply_to_screen_name=None, author=User(_api=<tweepy.api.API object at 0x000001AEF7EC3CC0>, _json={'id': 4196983835, 'id_str': '4196983835', 'name': 'WeRateDogs®', 'screen_name': 'dog_rates', 'location': 'all our links ➜', 'description': 'Your Only Source For Professional Dog Ratings Instagram and Facebook ➜ WeRateDogs partnerships@weratedogs.com | nonprofit: @15outof10 ⠀⠀⠀⠀⠀⠀⠀⠀⠀⠀⠀⠀', 'url': 'https://t.co/YPc2XqmwyC', 'entities': {'url': {'urls': [{'url': 'https://t.co/YPc2XqmwyC', 'expanded_url': 'http://links.weratedogs.com', 'display_url': 'links.weratedogs.com', 'indices': [0, 23]}]}, 'description': {'urls': []}}, 'protected': False, 'followers_count': 9285736, 'friends_count': 21, 'listed_count': 7433, 'created_at': 'Sun Nov 15 21:41:29 +0000 2015', 'favourites_count': 146713, 'utc_offset': None, 'time_zone': None, 'geo_enabled': True, 'verified': True, 'statuses_count': 15673, 'lang': None, 'contributors_enabled': False, 'is_translator': False, 'is_translation_enabled': False, 'profile_background_color': '000000', 'profile_background_image_url': 'http://abs.twimg.com/images/themes/theme1/bg.png', 'profile_background_image_url_https': 'https://abs.twimg.com/images/themes/theme1/bg.png', 'profile_background_tile': False, 'profile_image_url': 'http://pbs.twimg.com/profile_images/1532010275708223491/-SBRbLoH_normal.jpg', 'profile_image_url_https': 'https://pbs.twimg.com/profile_images/1532010275708223491/-SBRbLoH_normal.jpg', 'profile_banner_url': 'https://pbs.twimg.com/profile_banners/4196983835/1617810473', 'profile_link_color': 'F5ABB5', 'profile_sidebar_border_color': '000000', 'profile_sidebar_fill_color': '000000', 'profile_text_color': '000000', 'profile_use_background_image': False, 'has_extended_profile': False, 'default_profile': False, 'default_profile_image': False, 'following': False, 'follow_request_sent': False, 'notifications': False, 'translator_type': 'none', 'withheld_in_countries': []}, id=4196983835, id_str='4196983835', name='WeRateDogs®', screen_name='dog_rates', location='all our links ➜', description='Your Only Source For Professional Dog Ratings Instagram and Facebook ➜ WeRateDogs partnerships@weratedogs.com | nonprofit: @15outof10 ⠀⠀⠀⠀⠀⠀⠀⠀⠀⠀⠀⠀', url='https://t.co/YPc2XqmwyC', entities={'url': {'urls': [{'url': 'https://t.co/YPc2XqmwyC', 'expanded_url': 'http://links.weratedogs.com', 'display_url': 'links.weratedogs.com', 'indices': [0, 23]}]}, 'description': {'urls': []}}, protected=False, followers_count=9285736, friends_count=21, listed_count=7433, created_at=datetime.datetime(2015, 11, 15, 21, 41, 29, tzinfo=datetime.timezone.utc), favourites_count=146713, utc_offset=None, time_zone=None, geo_enabled=True, verified=True, statuses_count=15673, lang=None, contributors_enabled=False, is_translator=False, is_translation_enabled=False, profile_background_color='000000', profile_background_image_url='http://abs.twimg.com/images/themes/theme1/bg.png', profile_background_image_url_https='https://abs.twimg.com/images/themes/theme1/bg.png', profile_background_tile=False, profile_image_url='http://pbs.twimg.com/profile_images/1532010275708223491/-SBRbLoH_normal.jpg', profile_image_url_https='https://pbs.twimg.com/profile_images/1532010275708223491/-SBRbLoH_normal.jpg', profile_banner_url='https://pbs.twimg.com/profile_banners/4196983835/1617810473', profile_link_color='F5ABB5', profile_sidebar_border_color='000000', profile_sidebar_fill_color='000000', profile_text_color='000000', profile_use_background_image=False, has_extended_profile=False, default_profile=False, default_profile_image=False, following=False, follow_request_sent=False, notifications=False, translator_type='none', withheld_in_countries=[]), user=User(_api=<tweepy.api.API object at 0x000001AEF7EC3CC0>, _json={'id': 4196983835, 'id_str': '4196983835', 'name': 'WeRateDogs®', 'screen_name': 'dog_rates', 'location': 'all our links ➜', 'description': 'Your Only Source For Professional Dog Ratings Instagram and Facebook ➜ WeRateDogs partnerships@weratedogs.com | nonprofit: @15outof10 ⠀⠀⠀⠀⠀⠀⠀⠀⠀⠀⠀⠀', 'url': 'https://t.co/YPc2XqmwyC', 'entities': {'url': {'urls': [{'url': 'https://t.co/YPc2XqmwyC', 'expanded_url': 'http://links.weratedogs.com', 'display_url': 'links.weratedogs.com', 'indices': [0, 23]}]}, 'description': {'urls': []}}, 'protected': False, 'followers_count': 9285736, 'friends_count': 21, 'listed_count': 7433, 'created_at': 'Sun Nov 15 21:41:29 +0000 2015', 'favourites_count': 146713, 'utc_offset': None, 'time_zone': None, 'geo_enabled': True, 'verified': True, 'statuses_count': 15673, 'lang': None, 'contributors_enabled': False, 'is_translator': False, 'is_translation_enabled': False, 'profile_background_color': '000000', 'profile_background_image_url': 'http://abs.twimg.com/images/themes/theme1/bg.png', 'profile_background_image_url_https': 'https://abs.twimg.com/images/themes/theme1/bg.png', 'profile_background_tile': False, 'profile_image_url': 'http://pbs.twimg.com/profile_images/1532010275708223491/-SBRbLoH_normal.jpg', 'profile_image_url_https': 'https://pbs.twimg.com/profile_images/1532010275708223491/-SBRbLoH_normal.jpg', 'profile_banner_url': 'https://pbs.twimg.com/profile_banners/4196983835/1617810473', 'profile_link_color': 'F5ABB5', 'profile_sidebar_border_color': '000000', 'profile_sidebar_fill_color': '000000', 'profile_text_color': '000000', 'profile_use_background_image': False, 'has_extended_profile': False, 'default_profile': False, 'default_profile_image': False, 'following': False, 'follow_request_sent': False, 'notifications': False, 'translator_type': 'none', 'withheld_in_countries': []}, id=4196983835, id_str='4196983835', name='WeRateDogs®', screen_name='dog_rates', location='all our links ➜', description='Your Only Source For Professional Dog Ratings Instagram and Facebook ➜ WeRateDogs partnerships@weratedogs.com | nonprofit: @15outof10 ⠀⠀⠀⠀⠀⠀⠀⠀⠀⠀⠀⠀', url='https://t.co/YPc2XqmwyC', entities={'url': {'urls': [{'url': 'https://t.co/YPc2XqmwyC', 'expanded_url': 'http://links.weratedogs.com', 'display_url': 'links.weratedogs.com', 'indices': [0, 23]}]}, 'description': {'urls': []}}, protected=False, followers_count=9285736, friends_count=21, listed_count=7433, created_at=datetime.datetime(2015, 11, 15, 21, 41, 29, tzinfo=datetime.timezone.utc), favourites_count=146713, utc_offset=None, time_zone=None, geo_enabled=True, verified=True, statuses_count=15673, lang=None, contributors_enabled=False, is_translator=False, is_translation_enabled=False, profile_background_color='000000', profile_background_image_url='http://abs.twimg.com/images/themes/theme1/bg.png', profile_background_image_url_https='https://abs.twimg.com/images/themes/theme1/bg.png', profile_background_tile=False, profile_image_url='http://pbs.twimg.com/profile_images/1532010275708223491/-SBRbLoH_normal.jpg', profile_image_url_https='https://pbs.twimg.com/profile_images/1532010275708223491/-SBRbLoH_normal.jpg', profile_banner_url='https://pbs.twimg.com/profile_banners/4196983835/1617810473', profile_link_color='F5ABB5', profile_sidebar_border_color='000000', profile_sidebar_fill_color='000000', profile_text_color='000000', profile_use_background_image=False, has_extended_profile=False, default_profile=False, default_profile_image=False, following=False, follow_request_sent=False, notifications=False, translator_type='none', withheld_in_countries=[]), geo=None, coordinates=None, place=None, contributors=None, is_quote_status=False, retweet_count=7009, favorite_count=33806, favorited=False, retweeted=False, possibly_sensitive=False, possibly_sensitive_appealable=False, lang='en')\n"
     ]
    }
   ],
   "source": [
    "# the next two cells help us understand the nature of data returned by twitter's API\n",
    "\n",
    "for tweet_id in tweet_ids:\n",
    "    # the .get_status() method of the API helps get all the information about the tweet specified\n",
    "    tweet = api.get_status(tweet_id, tweet_mode='extended')\n",
    "    print(tweet)\n",
    "    break\n"
   ]
  },
  {
   "cell_type": "markdown",
   "metadata": {},
   "source": [
    "When the get_status method is called, it returns a python object. Let's see all the attributes in the python object returned"
   ]
  },
  {
   "cell_type": "code",
   "execution_count": 9,
   "metadata": {},
   "outputs": [
    {
     "name": "stdout",
     "output_type": "stream",
     "text": [
      "The attributes in this python object are: ['__class__', '__delattr__', '__dict__', '__dir__', '__doc__', '__eq__', '__format__', '__ge__', '__getattribute__', '__getstate__', '__gt__', '__hash__', '__init__', '__init_subclass__', '__le__', '__lt__', '__module__', '__ne__', '__new__', '__reduce__', '__reduce_ex__', '__repr__', '__setattr__', '__sizeof__', '__slots__', '__str__', '__subclasshook__', '__weakref__', '_api', '_json', 'author', 'contributors', 'coordinates', 'created_at', 'destroy', 'display_text_range', 'entities', 'extended_entities', 'favorite', 'favorite_count', 'favorited', 'full_text', 'geo', 'id', 'id_str', 'in_reply_to_screen_name', 'in_reply_to_status_id', 'in_reply_to_status_id_str', 'in_reply_to_user_id', 'in_reply_to_user_id_str', 'is_quote_status', 'lang', 'parse', 'parse_list', 'place', 'possibly_sensitive', 'possibly_sensitive_appealable', 'retweet', 'retweet_count', 'retweeted', 'retweets', 'source', 'source_url', 'truncated', 'user']\n"
     ]
    }
   ],
   "source": [
    "for tweet_id in tweet_ids:\n",
    "    tweet = api.get_status(tweet_id, tweet_mode='extended')\n",
    "    # this next line helps us get the attributes in the python object returned\n",
    "    print(f'The attributes in this python object are: {dir(tweet)}')\n",
    "    break"
   ]
  },
  {
   "cell_type": "markdown",
   "metadata": {},
   "source": [
    "A lot of attributes are returned but our focus is on the `._json` attribute since we're instructed in the lesson to write the json data to a text file."
   ]
  },
  {
   "cell_type": "code",
   "execution_count": 10,
   "metadata": {},
   "outputs": [
    {
     "name": "stdout",
     "output_type": "stream",
     "text": [
      "<class 'dict'>\n",
      "{'created_at': 'Tue Aug 01 16:23:56 +0000 2017', 'id': 892420643555336193, 'id_str': '892420643555336193', 'full_text': \"This is Phineas. He's a mystical boy. Only ever appears in the hole of a donut. 13/10 https://t.co/MgUWQ76dJU\", 'truncated': False, 'display_text_range': [0, 85], 'entities': {'hashtags': [], 'symbols': [], 'user_mentions': [], 'urls': [], 'media': [{'id': 892420639486877696, 'id_str': '892420639486877696', 'indices': [86, 109], 'media_url': 'http://pbs.twimg.com/media/DGKD1-bXoAAIAUK.jpg', 'media_url_https': 'https://pbs.twimg.com/media/DGKD1-bXoAAIAUK.jpg', 'url': 'https://t.co/MgUWQ76dJU', 'display_url': 'pic.twitter.com/MgUWQ76dJU', 'expanded_url': 'https://twitter.com/dog_rates/status/892420643555336193/photo/1', 'type': 'photo', 'sizes': {'thumb': {'w': 150, 'h': 150, 'resize': 'crop'}, 'medium': {'w': 540, 'h': 528, 'resize': 'fit'}, 'small': {'w': 540, 'h': 528, 'resize': 'fit'}, 'large': {'w': 540, 'h': 528, 'resize': 'fit'}}}]}, 'extended_entities': {'media': [{'id': 892420639486877696, 'id_str': '892420639486877696', 'indices': [86, 109], 'media_url': 'http://pbs.twimg.com/media/DGKD1-bXoAAIAUK.jpg', 'media_url_https': 'https://pbs.twimg.com/media/DGKD1-bXoAAIAUK.jpg', 'url': 'https://t.co/MgUWQ76dJU', 'display_url': 'pic.twitter.com/MgUWQ76dJU', 'expanded_url': 'https://twitter.com/dog_rates/status/892420643555336193/photo/1', 'type': 'photo', 'sizes': {'thumb': {'w': 150, 'h': 150, 'resize': 'crop'}, 'medium': {'w': 540, 'h': 528, 'resize': 'fit'}, 'small': {'w': 540, 'h': 528, 'resize': 'fit'}, 'large': {'w': 540, 'h': 528, 'resize': 'fit'}}}]}, 'source': '<a href=\"http://twitter.com/download/iphone\" rel=\"nofollow\">Twitter for iPhone</a>', 'in_reply_to_status_id': None, 'in_reply_to_status_id_str': None, 'in_reply_to_user_id': None, 'in_reply_to_user_id_str': None, 'in_reply_to_screen_name': None, 'user': {'id': 4196983835, 'id_str': '4196983835', 'name': 'WeRateDogs®', 'screen_name': 'dog_rates', 'location': 'all our links ➜', 'description': 'Your Only Source For Professional Dog Ratings Instagram and Facebook ➜ WeRateDogs partnerships@weratedogs.com | nonprofit: @15outof10 ⠀⠀⠀⠀⠀⠀⠀⠀⠀⠀⠀⠀', 'url': 'https://t.co/YPc2XqmwyC', 'entities': {'url': {'urls': [{'url': 'https://t.co/YPc2XqmwyC', 'expanded_url': 'http://links.weratedogs.com', 'display_url': 'links.weratedogs.com', 'indices': [0, 23]}]}, 'description': {'urls': []}}, 'protected': False, 'followers_count': 9285736, 'friends_count': 21, 'listed_count': 7433, 'created_at': 'Sun Nov 15 21:41:29 +0000 2015', 'favourites_count': 146713, 'utc_offset': None, 'time_zone': None, 'geo_enabled': True, 'verified': True, 'statuses_count': 15673, 'lang': None, 'contributors_enabled': False, 'is_translator': False, 'is_translation_enabled': False, 'profile_background_color': '000000', 'profile_background_image_url': 'http://abs.twimg.com/images/themes/theme1/bg.png', 'profile_background_image_url_https': 'https://abs.twimg.com/images/themes/theme1/bg.png', 'profile_background_tile': False, 'profile_image_url': 'http://pbs.twimg.com/profile_images/1532010275708223491/-SBRbLoH_normal.jpg', 'profile_image_url_https': 'https://pbs.twimg.com/profile_images/1532010275708223491/-SBRbLoH_normal.jpg', 'profile_banner_url': 'https://pbs.twimg.com/profile_banners/4196983835/1617810473', 'profile_link_color': 'F5ABB5', 'profile_sidebar_border_color': '000000', 'profile_sidebar_fill_color': '000000', 'profile_text_color': '000000', 'profile_use_background_image': False, 'has_extended_profile': False, 'default_profile': False, 'default_profile_image': False, 'following': False, 'follow_request_sent': False, 'notifications': False, 'translator_type': 'none', 'withheld_in_countries': []}, 'geo': None, 'coordinates': None, 'place': None, 'contributors': None, 'is_quote_status': False, 'retweet_count': 7009, 'favorite_count': 33806, 'favorited': False, 'retweeted': False, 'possibly_sensitive': False, 'possibly_sensitive_appealable': False, 'lang': 'en'}\n"
     ]
    }
   ],
   "source": [
    "print(type(tweet._json))\n",
    "print(tweet._json)"
   ]
  },
  {
   "cell_type": "markdown",
   "metadata": {},
   "source": [
    "The ._json attribute returns a python dictionary. To write the json data to a file, we will use the `json.dump()` method which takes a python dictionary, converts it to json contents and writes it to a file directly."
   ]
  },
  {
   "cell_type": "code",
   "execution_count": 11,
   "metadata": {},
   "outputs": [],
   "source": [
    "# open the text file in write mode\n",
    "with open('sample.txt','w') as outfile:\n",
    "    # use the json.dump() method to write the json content to the file\n",
    "    json.dump(tweet._json, outfile)"
   ]
  },
  {
   "cell_type": "markdown",
   "metadata": {},
   "source": [
    "Having understood all of this, let's examine the code provided by Udacity"
   ]
  },
  {
   "cell_type": "code",
   "execution_count": null,
   "metadata": {},
   "outputs": [],
   "source": [
    "\n",
    "# Query Twitter's API for JSON data for each tweet ID in the Twitter archive\n",
    "\n",
    "# initialize a counter to help track progress\n",
    "count = 0\n",
    "\n",
    "# create a dictionary to store the tweet ids that cannot be retrieved\n",
    "fails_dict = {}\n",
    "\n",
    "# start tracking the time taken to run the next lines of code\n",
    "start = timer()\n",
    "\n",
    "# Save each tweet's returned JSON as a new line in a .txt file\n",
    "\n",
    "# open the text file in write mode\n",
    "with open('tweet_json.txt', 'w') as outfile:\n",
    "    # This loop will likely take 20-30 minutes to run because of Twitter's rate limit\n",
    "    for tweet_id in tweet_ids:\n",
    "        # increment the counter with each tweet that's being queried\n",
    "        count += 1\n",
    "        # print the number and tweet id\n",
    "        print(str(count) + \": \" + str(tweet_id))\n",
    "        try:\n",
    "            # get the status of the tweet\n",
    "            tweet = api.get_status(tweet_id, tweet_mode='extended')\n",
    "            print(\"Success\")\n",
    "            # write the json data to the text file opened\n",
    "            json.dump(tweet._json, outfile)\n",
    "            # you're required to write each tweet on a new line so go to a new line\n",
    "            outfile.write('\\n')\n",
    "        except tweepy.TweepyException as e:\n",
    "            print(\"Fail\")\n",
    "            # write the tweet id that failed along with the error message to the fails_dict dictionary\n",
    "            fails_dict[tweet_id] = e\n",
    "            pass\n",
    "end = timer()\n",
    "print(end - start)\n",
    "print(fails_dict)"
   ]
  },
  {
   "cell_type": "markdown",
   "metadata": {},
   "source": [
    "One thing to note here is the try and except blocks. This is used for catching errors. You specify what should be done under try block. If there's an error, specify what should be done under the except block"
   ]
  },
  {
   "cell_type": "code",
   "execution_count": 13,
   "metadata": {},
   "outputs": [
    {
     "data": {
      "text/plain": [
       "{888202515573088257: tweepy.errors.NotFound('404 Not Found\\n144 - No status found with that ID.')}"
      ]
     },
     "execution_count": 13,
     "metadata": {},
     "output_type": "execute_result"
    }
   ],
   "source": [
    "fails_dict"
   ]
  },
  {
   "cell_type": "markdown",
   "metadata": {},
   "source": [
    "#### Reading the data from the txt file into a dataframe"
   ]
  },
  {
   "cell_type": "markdown",
   "metadata": {},
   "source": [
    "The data can be read into a dataframe directly using pd.read_json."
   ]
  },
  {
   "cell_type": "code",
   "execution_count": 15,
   "metadata": {},
   "outputs": [
    {
     "data": {
      "text/html": [
       "<div>\n",
       "<style scoped>\n",
       "    .dataframe tbody tr th:only-of-type {\n",
       "        vertical-align: middle;\n",
       "    }\n",
       "\n",
       "    .dataframe tbody tr th {\n",
       "        vertical-align: top;\n",
       "    }\n",
       "\n",
       "    .dataframe thead th {\n",
       "        text-align: right;\n",
       "    }\n",
       "</style>\n",
       "<table border=\"1\" class=\"dataframe\">\n",
       "  <thead>\n",
       "    <tr style=\"text-align: right;\">\n",
       "      <th></th>\n",
       "      <th>created_at</th>\n",
       "      <th>id</th>\n",
       "      <th>id_str</th>\n",
       "      <th>full_text</th>\n",
       "      <th>truncated</th>\n",
       "      <th>display_text_range</th>\n",
       "      <th>entities</th>\n",
       "      <th>extended_entities</th>\n",
       "      <th>source</th>\n",
       "      <th>in_reply_to_status_id</th>\n",
       "      <th>...</th>\n",
       "      <th>place</th>\n",
       "      <th>contributors</th>\n",
       "      <th>is_quote_status</th>\n",
       "      <th>retweet_count</th>\n",
       "      <th>favorite_count</th>\n",
       "      <th>favorited</th>\n",
       "      <th>retweeted</th>\n",
       "      <th>possibly_sensitive</th>\n",
       "      <th>possibly_sensitive_appealable</th>\n",
       "      <th>lang</th>\n",
       "    </tr>\n",
       "  </thead>\n",
       "  <tbody>\n",
       "    <tr>\n",
       "      <th>0</th>\n",
       "      <td>2017-08-01 16:23:56+00:00</td>\n",
       "      <td>892420643555336193</td>\n",
       "      <td>892420643555336192</td>\n",
       "      <td>This is Phineas. He's a mystical boy. Only eve...</td>\n",
       "      <td>False</td>\n",
       "      <td>[0, 85]</td>\n",
       "      <td>{'hashtags': [], 'symbols': [], 'user_mentions...</td>\n",
       "      <td>{'media': [{'id': 892420639486877696, 'id_str'...</td>\n",
       "      <td>&lt;a href=\"http://twitter.com/download/iphone\" r...</td>\n",
       "      <td>NaN</td>\n",
       "      <td>...</td>\n",
       "      <td>NaN</td>\n",
       "      <td>NaN</td>\n",
       "      <td>False</td>\n",
       "      <td>7009</td>\n",
       "      <td>33806</td>\n",
       "      <td>False</td>\n",
       "      <td>False</td>\n",
       "      <td>False</td>\n",
       "      <td>False</td>\n",
       "      <td>en</td>\n",
       "    </tr>\n",
       "    <tr>\n",
       "      <th>1</th>\n",
       "      <td>2017-08-01 00:17:27+00:00</td>\n",
       "      <td>892177421306343426</td>\n",
       "      <td>892177421306343424</td>\n",
       "      <td>This is Tilly. She's just checking pup on you....</td>\n",
       "      <td>False</td>\n",
       "      <td>[0, 138]</td>\n",
       "      <td>{'hashtags': [], 'symbols': [], 'user_mentions...</td>\n",
       "      <td>{'media': [{'id': 892177413194625024, 'id_str'...</td>\n",
       "      <td>&lt;a href=\"http://twitter.com/download/iphone\" r...</td>\n",
       "      <td>NaN</td>\n",
       "      <td>...</td>\n",
       "      <td>NaN</td>\n",
       "      <td>NaN</td>\n",
       "      <td>False</td>\n",
       "      <td>5301</td>\n",
       "      <td>29330</td>\n",
       "      <td>False</td>\n",
       "      <td>False</td>\n",
       "      <td>False</td>\n",
       "      <td>False</td>\n",
       "      <td>en</td>\n",
       "    </tr>\n",
       "    <tr>\n",
       "      <th>2</th>\n",
       "      <td>2017-07-31 00:18:03+00:00</td>\n",
       "      <td>891815181378084864</td>\n",
       "      <td>891815181378084864</td>\n",
       "      <td>This is Archie. He is a rare Norwegian Pouncin...</td>\n",
       "      <td>False</td>\n",
       "      <td>[0, 121]</td>\n",
       "      <td>{'hashtags': [], 'symbols': [], 'user_mentions...</td>\n",
       "      <td>{'media': [{'id': 891815175371796480, 'id_str'...</td>\n",
       "      <td>&lt;a href=\"http://twitter.com/download/iphone\" r...</td>\n",
       "      <td>NaN</td>\n",
       "      <td>...</td>\n",
       "      <td>NaN</td>\n",
       "      <td>NaN</td>\n",
       "      <td>False</td>\n",
       "      <td>3481</td>\n",
       "      <td>22051</td>\n",
       "      <td>False</td>\n",
       "      <td>False</td>\n",
       "      <td>False</td>\n",
       "      <td>False</td>\n",
       "      <td>en</td>\n",
       "    </tr>\n",
       "    <tr>\n",
       "      <th>3</th>\n",
       "      <td>2017-07-30 15:58:51+00:00</td>\n",
       "      <td>891689557279858688</td>\n",
       "      <td>891689557279858688</td>\n",
       "      <td>This is Darla. She commenced a snooze mid meal...</td>\n",
       "      <td>False</td>\n",
       "      <td>[0, 79]</td>\n",
       "      <td>{'hashtags': [], 'symbols': [], 'user_mentions...</td>\n",
       "      <td>{'media': [{'id': 891689552724799489, 'id_str'...</td>\n",
       "      <td>&lt;a href=\"http://twitter.com/download/iphone\" r...</td>\n",
       "      <td>NaN</td>\n",
       "      <td>...</td>\n",
       "      <td>NaN</td>\n",
       "      <td>NaN</td>\n",
       "      <td>False</td>\n",
       "      <td>7225</td>\n",
       "      <td>36938</td>\n",
       "      <td>False</td>\n",
       "      <td>False</td>\n",
       "      <td>False</td>\n",
       "      <td>False</td>\n",
       "      <td>en</td>\n",
       "    </tr>\n",
       "    <tr>\n",
       "      <th>4</th>\n",
       "      <td>2017-07-29 16:00:24+00:00</td>\n",
       "      <td>891327558926688256</td>\n",
       "      <td>891327558926688256</td>\n",
       "      <td>This is Franklin. He would like you to stop ca...</td>\n",
       "      <td>False</td>\n",
       "      <td>[0, 138]</td>\n",
       "      <td>{'hashtags': [{'text': 'BarkWeek', 'indices': ...</td>\n",
       "      <td>{'media': [{'id': 891327551943041024, 'id_str'...</td>\n",
       "      <td>&lt;a href=\"http://twitter.com/download/iphone\" r...</td>\n",
       "      <td>NaN</td>\n",
       "      <td>...</td>\n",
       "      <td>NaN</td>\n",
       "      <td>NaN</td>\n",
       "      <td>False</td>\n",
       "      <td>7760</td>\n",
       "      <td>35272</td>\n",
       "      <td>False</td>\n",
       "      <td>False</td>\n",
       "      <td>False</td>\n",
       "      <td>False</td>\n",
       "      <td>en</td>\n",
       "    </tr>\n",
       "  </tbody>\n",
       "</table>\n",
       "<p>5 rows × 27 columns</p>\n",
       "</div>"
      ],
      "text/plain": [
       "                 created_at                  id              id_str  \\\n",
       "0 2017-08-01 16:23:56+00:00  892420643555336193  892420643555336192   \n",
       "1 2017-08-01 00:17:27+00:00  892177421306343426  892177421306343424   \n",
       "2 2017-07-31 00:18:03+00:00  891815181378084864  891815181378084864   \n",
       "3 2017-07-30 15:58:51+00:00  891689557279858688  891689557279858688   \n",
       "4 2017-07-29 16:00:24+00:00  891327558926688256  891327558926688256   \n",
       "\n",
       "                                           full_text  truncated  \\\n",
       "0  This is Phineas. He's a mystical boy. Only eve...      False   \n",
       "1  This is Tilly. She's just checking pup on you....      False   \n",
       "2  This is Archie. He is a rare Norwegian Pouncin...      False   \n",
       "3  This is Darla. She commenced a snooze mid meal...      False   \n",
       "4  This is Franklin. He would like you to stop ca...      False   \n",
       "\n",
       "  display_text_range                                           entities  \\\n",
       "0            [0, 85]  {'hashtags': [], 'symbols': [], 'user_mentions...   \n",
       "1           [0, 138]  {'hashtags': [], 'symbols': [], 'user_mentions...   \n",
       "2           [0, 121]  {'hashtags': [], 'symbols': [], 'user_mentions...   \n",
       "3            [0, 79]  {'hashtags': [], 'symbols': [], 'user_mentions...   \n",
       "4           [0, 138]  {'hashtags': [{'text': 'BarkWeek', 'indices': ...   \n",
       "\n",
       "                                   extended_entities  \\\n",
       "0  {'media': [{'id': 892420639486877696, 'id_str'...   \n",
       "1  {'media': [{'id': 892177413194625024, 'id_str'...   \n",
       "2  {'media': [{'id': 891815175371796480, 'id_str'...   \n",
       "3  {'media': [{'id': 891689552724799489, 'id_str'...   \n",
       "4  {'media': [{'id': 891327551943041024, 'id_str'...   \n",
       "\n",
       "                                              source  in_reply_to_status_id  \\\n",
       "0  <a href=\"http://twitter.com/download/iphone\" r...                    NaN   \n",
       "1  <a href=\"http://twitter.com/download/iphone\" r...                    NaN   \n",
       "2  <a href=\"http://twitter.com/download/iphone\" r...                    NaN   \n",
       "3  <a href=\"http://twitter.com/download/iphone\" r...                    NaN   \n",
       "4  <a href=\"http://twitter.com/download/iphone\" r...                    NaN   \n",
       "\n",
       "   ...  place  contributors  is_quote_status  retweet_count favorite_count  \\\n",
       "0  ...    NaN           NaN            False           7009          33806   \n",
       "1  ...    NaN           NaN            False           5301          29330   \n",
       "2  ...    NaN           NaN            False           3481          22051   \n",
       "3  ...    NaN           NaN            False           7225          36938   \n",
       "4  ...    NaN           NaN            False           7760          35272   \n",
       "\n",
       "   favorited  retweeted  possibly_sensitive  possibly_sensitive_appealable  \\\n",
       "0      False      False               False                          False   \n",
       "1      False      False               False                          False   \n",
       "2      False      False               False                          False   \n",
       "3      False      False               False                          False   \n",
       "4      False      False               False                          False   \n",
       "\n",
       "   lang  \n",
       "0    en  \n",
       "1    en  \n",
       "2    en  \n",
       "3    en  \n",
       "4    en  \n",
       "\n",
       "[5 rows x 27 columns]"
      ]
     },
     "execution_count": 15,
     "metadata": {},
     "output_type": "execute_result"
    }
   ],
   "source": [
    "# read the data into a dataframe using pd.read_json\n",
    "df = pd.read_json('tweet_json.txt', lines = True)\n",
    "df.head()"
   ]
  },
  {
   "cell_type": "markdown",
   "metadata": {},
   "source": [
    "Another way to read the data is to:\n",
    "1. loop through each line of the file\n",
    "2. create a dicitionary of the data you need\n",
    "3. append the dictionary to a list such that you have a list of dictionaries once you've looped through the entire file\n",
    "4. use the pd.DataFrame constructor to create a dataframe from the list of dictionaries"
   ]
  },
  {
   "cell_type": "code",
   "execution_count": 19,
   "metadata": {},
   "outputs": [
    {
     "name": "stdout",
     "output_type": "stream",
     "text": [
      "<class 'dict'>\n"
     ]
    }
   ],
   "source": [
    "# open the file in read mode\n",
    "with open('tweet_json.txt','r') as file:\n",
    "    # loop through each line in the file\n",
    "    for line in file:\n",
    "        # use json.loads() method to convert the json string to a python dictionary\n",
    "        print(type(json.loads(line)))\n",
    "        break"
   ]
  },
  {
   "cell_type": "code",
   "execution_count": 24,
   "metadata": {},
   "outputs": [
    {
     "name": "stdout",
     "output_type": "stream",
     "text": [
      "The value of the full_text key is: This is Phineas. He's a mystical boy. Only ever appears in the hole of a donut. 13/10 https://t.co/MgUWQ76dJU\n",
      "The other keys in the dictionary are: dict_keys(['created_at', 'id', 'id_str', 'full_text', 'truncated', 'display_text_range', 'entities', 'extended_entities', 'source', 'in_reply_to_status_id', 'in_reply_to_status_id_str', 'in_reply_to_user_id', 'in_reply_to_user_id_str', 'in_reply_to_screen_name', 'user', 'geo', 'coordinates', 'place', 'contributors', 'is_quote_status', 'retweet_count', 'favorite_count', 'favorited', 'retweeted', 'possibly_sensitive', 'possibly_sensitive_appealable', 'lang'])\n"
     ]
    }
   ],
   "source": [
    "with open('tweet_json.txt', 'r') as file:\n",
    "    for line in file:\n",
    "        tweet = json.loads(line)\n",
    "        print(f\"The value of the full_text key is: {tweet['full_text']}\")\n",
    "        print(f\"The other keys in the dictionary are: {tweet.keys()}\")\n",
    "        break"
   ]
  },
  {
   "cell_type": "markdown",
   "metadata": {},
   "source": [
    "With this knowledge, you should be able to pick the keys you want, write them to a dictionary, append them to a list and then create a dataframe."
   ]
  },
  {
   "cell_type": "markdown",
   "metadata": {},
   "source": [
    "## Case Study: Punch Newspaper"
   ]
  },
  {
   "cell_type": "markdown",
   "metadata": {},
   "source": [
    "In this case study, we'll be gathering data for the most recent tweets of a popular Newspaper company in Nigeria. The goal is to analyze the data in order to determine what kind of news their audience engage with the most.\n",
    "<br>\n",
    "With the data gotten from twitter alone, it's difficult to determine what kind of news is in the tweet. However, the news tags can be gotten form the news article on their website. For this reason, this case study is divided into two parts:\n",
    "1. Gathering data from Twitter\n",
    "    * Things like the retweet count, favorite count and link to the full news article will be gathered and written to a dataframe\n",
    "2. Scraping data from the news website\n",
    "    * Using the urls gotten from the first stage, we will download the html content of each website using the requests library. Then we will scrape the tags using beautiful soup library\n",
    "<br>\n",
    "\n",
    "While the scope of this case study ends at just these two tasks, students are encouraged to go further by doing the following:\n",
    "1. Getting more tweets over a longer period (e.g. last one month or last three months)\n",
    "2. Properly categorizing the tags gotten from the news article as the tags are too specific. You can categorize them manually or apply machine learning methods"
   ]
  },
  {
   "cell_type": "code",
   "execution_count": 25,
   "metadata": {},
   "outputs": [
    {
     "name": "stdout",
     "output_type": "stream",
     "text": [
      "Status(_api=<tweepy.api.API object at 0x000001AEF7EC3CC0>, _json={'created_at': 'Mon Jun 27 09:17:14 +0000 2022', 'id': 1541349926877241346, 'id_str': '1541349926877241346', 'text': 'After Awoniyi, Forest eye Aribo https://t.co/AlUArBF9un', 'truncated': False, 'entities': {'hashtags': [], 'symbols': [], 'user_mentions': [], 'urls': [{'url': 'https://t.co/AlUArBF9un', 'expanded_url': 'https://punchng.com/after-awoniyi-forest-eye-aribo/?utm_term=Autofeed&utm_medium=Social&utm_source=Twitter#Echobox=1656319166', 'display_url': 'punchng.com/after-awoniyi-…', 'indices': [32, 55]}]}, 'source': '<a href=\"https://www.echobox.com\" rel=\"nofollow\">Echobox</a>', 'in_reply_to_status_id': None, 'in_reply_to_status_id_str': None, 'in_reply_to_user_id': None, 'in_reply_to_user_id_str': None, 'in_reply_to_screen_name': None, 'user': {'id': 24291371, 'id_str': '24291371', 'name': 'Punch Newspapers', 'screen_name': 'MobilePunch', 'location': 'Lagos, Nigeria', 'description': 'This is the official Twitter handle of PUNCH Newspapers, the most widely read newspaper in Nigeria.', 'url': 'https://t.co/JwPtwCGMPv', 'entities': {'url': {'urls': [{'url': 'https://t.co/JwPtwCGMPv', 'expanded_url': 'http://www.punchng.com', 'display_url': 'punchng.com', 'indices': [0, 23]}]}, 'description': {'urls': []}}, 'protected': False, 'followers_count': 5338926, 'friends_count': 2193, 'listed_count': 3290, 'created_at': 'Sat Mar 14 00:27:10 +0000 2009', 'favourites_count': 122, 'utc_offset': None, 'time_zone': None, 'geo_enabled': True, 'verified': True, 'statuses_count': 529700, 'lang': None, 'contributors_enabled': False, 'is_translator': False, 'is_translation_enabled': False, 'profile_background_color': 'EB0909', 'profile_background_image_url': 'http://abs.twimg.com/images/themes/theme1/bg.png', 'profile_background_image_url_https': 'https://abs.twimg.com/images/themes/theme1/bg.png', 'profile_background_tile': False, 'profile_image_url': 'http://pbs.twimg.com/profile_images/1480515290416963584/EiZOsM_f_normal.jpg', 'profile_image_url_https': 'https://pbs.twimg.com/profile_images/1480515290416963584/EiZOsM_f_normal.jpg', 'profile_banner_url': 'https://pbs.twimg.com/profile_banners/24291371/1641817325', 'profile_link_color': '1B95E0', 'profile_sidebar_border_color': 'FFFFFF', 'profile_sidebar_fill_color': 'DDEEF6', 'profile_text_color': '333333', 'profile_use_background_image': True, 'has_extended_profile': False, 'default_profile': False, 'default_profile_image': False, 'following': True, 'follow_request_sent': False, 'notifications': False, 'translator_type': 'none', 'withheld_in_countries': []}, 'geo': None, 'coordinates': None, 'place': None, 'contributors': None, 'is_quote_status': False, 'retweet_count': 1, 'favorite_count': 18, 'favorited': False, 'retweeted': False, 'possibly_sensitive': False, 'lang': 'tl'}, created_at=datetime.datetime(2022, 6, 27, 9, 17, 14, tzinfo=datetime.timezone.utc), id=1541349926877241346, id_str='1541349926877241346', text='After Awoniyi, Forest eye Aribo https://t.co/AlUArBF9un', truncated=False, entities={'hashtags': [], 'symbols': [], 'user_mentions': [], 'urls': [{'url': 'https://t.co/AlUArBF9un', 'expanded_url': 'https://punchng.com/after-awoniyi-forest-eye-aribo/?utm_term=Autofeed&utm_medium=Social&utm_source=Twitter#Echobox=1656319166', 'display_url': 'punchng.com/after-awoniyi-…', 'indices': [32, 55]}]}, source='Echobox', source_url='https://www.echobox.com', in_reply_to_status_id=None, in_reply_to_status_id_str=None, in_reply_to_user_id=None, in_reply_to_user_id_str=None, in_reply_to_screen_name=None, author=User(_api=<tweepy.api.API object at 0x000001AEF7EC3CC0>, _json={'id': 24291371, 'id_str': '24291371', 'name': 'Punch Newspapers', 'screen_name': 'MobilePunch', 'location': 'Lagos, Nigeria', 'description': 'This is the official Twitter handle of PUNCH Newspapers, the most widely read newspaper in Nigeria.', 'url': 'https://t.co/JwPtwCGMPv', 'entities': {'url': {'urls': [{'url': 'https://t.co/JwPtwCGMPv', 'expanded_url': 'http://www.punchng.com', 'display_url': 'punchng.com', 'indices': [0, 23]}]}, 'description': {'urls': []}}, 'protected': False, 'followers_count': 5338926, 'friends_count': 2193, 'listed_count': 3290, 'created_at': 'Sat Mar 14 00:27:10 +0000 2009', 'favourites_count': 122, 'utc_offset': None, 'time_zone': None, 'geo_enabled': True, 'verified': True, 'statuses_count': 529700, 'lang': None, 'contributors_enabled': False, 'is_translator': False, 'is_translation_enabled': False, 'profile_background_color': 'EB0909', 'profile_background_image_url': 'http://abs.twimg.com/images/themes/theme1/bg.png', 'profile_background_image_url_https': 'https://abs.twimg.com/images/themes/theme1/bg.png', 'profile_background_tile': False, 'profile_image_url': 'http://pbs.twimg.com/profile_images/1480515290416963584/EiZOsM_f_normal.jpg', 'profile_image_url_https': 'https://pbs.twimg.com/profile_images/1480515290416963584/EiZOsM_f_normal.jpg', 'profile_banner_url': 'https://pbs.twimg.com/profile_banners/24291371/1641817325', 'profile_link_color': '1B95E0', 'profile_sidebar_border_color': 'FFFFFF', 'profile_sidebar_fill_color': 'DDEEF6', 'profile_text_color': '333333', 'profile_use_background_image': True, 'has_extended_profile': False, 'default_profile': False, 'default_profile_image': False, 'following': True, 'follow_request_sent': False, 'notifications': False, 'translator_type': 'none', 'withheld_in_countries': []}, id=24291371, id_str='24291371', name='Punch Newspapers', screen_name='MobilePunch', location='Lagos, Nigeria', description='This is the official Twitter handle of PUNCH Newspapers, the most widely read newspaper in Nigeria.', url='https://t.co/JwPtwCGMPv', entities={'url': {'urls': [{'url': 'https://t.co/JwPtwCGMPv', 'expanded_url': 'http://www.punchng.com', 'display_url': 'punchng.com', 'indices': [0, 23]}]}, 'description': {'urls': []}}, protected=False, followers_count=5338926, friends_count=2193, listed_count=3290, created_at=datetime.datetime(2009, 3, 14, 0, 27, 10, tzinfo=datetime.timezone.utc), favourites_count=122, utc_offset=None, time_zone=None, geo_enabled=True, verified=True, statuses_count=529700, lang=None, contributors_enabled=False, is_translator=False, is_translation_enabled=False, profile_background_color='EB0909', profile_background_image_url='http://abs.twimg.com/images/themes/theme1/bg.png', profile_background_image_url_https='https://abs.twimg.com/images/themes/theme1/bg.png', profile_background_tile=False, profile_image_url='http://pbs.twimg.com/profile_images/1480515290416963584/EiZOsM_f_normal.jpg', profile_image_url_https='https://pbs.twimg.com/profile_images/1480515290416963584/EiZOsM_f_normal.jpg', profile_banner_url='https://pbs.twimg.com/profile_banners/24291371/1641817325', profile_link_color='1B95E0', profile_sidebar_border_color='FFFFFF', profile_sidebar_fill_color='DDEEF6', profile_text_color='333333', profile_use_background_image=True, has_extended_profile=False, default_profile=False, default_profile_image=False, following=True, follow_request_sent=False, notifications=False, translator_type='none', withheld_in_countries=[]), user=User(_api=<tweepy.api.API object at 0x000001AEF7EC3CC0>, _json={'id': 24291371, 'id_str': '24291371', 'name': 'Punch Newspapers', 'screen_name': 'MobilePunch', 'location': 'Lagos, Nigeria', 'description': 'This is the official Twitter handle of PUNCH Newspapers, the most widely read newspaper in Nigeria.', 'url': 'https://t.co/JwPtwCGMPv', 'entities': {'url': {'urls': [{'url': 'https://t.co/JwPtwCGMPv', 'expanded_url': 'http://www.punchng.com', 'display_url': 'punchng.com', 'indices': [0, 23]}]}, 'description': {'urls': []}}, 'protected': False, 'followers_count': 5338926, 'friends_count': 2193, 'listed_count': 3290, 'created_at': 'Sat Mar 14 00:27:10 +0000 2009', 'favourites_count': 122, 'utc_offset': None, 'time_zone': None, 'geo_enabled': True, 'verified': True, 'statuses_count': 529700, 'lang': None, 'contributors_enabled': False, 'is_translator': False, 'is_translation_enabled': False, 'profile_background_color': 'EB0909', 'profile_background_image_url': 'http://abs.twimg.com/images/themes/theme1/bg.png', 'profile_background_image_url_https': 'https://abs.twimg.com/images/themes/theme1/bg.png', 'profile_background_tile': False, 'profile_image_url': 'http://pbs.twimg.com/profile_images/1480515290416963584/EiZOsM_f_normal.jpg', 'profile_image_url_https': 'https://pbs.twimg.com/profile_images/1480515290416963584/EiZOsM_f_normal.jpg', 'profile_banner_url': 'https://pbs.twimg.com/profile_banners/24291371/1641817325', 'profile_link_color': '1B95E0', 'profile_sidebar_border_color': 'FFFFFF', 'profile_sidebar_fill_color': 'DDEEF6', 'profile_text_color': '333333', 'profile_use_background_image': True, 'has_extended_profile': False, 'default_profile': False, 'default_profile_image': False, 'following': True, 'follow_request_sent': False, 'notifications': False, 'translator_type': 'none', 'withheld_in_countries': []}, id=24291371, id_str='24291371', name='Punch Newspapers', screen_name='MobilePunch', location='Lagos, Nigeria', description='This is the official Twitter handle of PUNCH Newspapers, the most widely read newspaper in Nigeria.', url='https://t.co/JwPtwCGMPv', entities={'url': {'urls': [{'url': 'https://t.co/JwPtwCGMPv', 'expanded_url': 'http://www.punchng.com', 'display_url': 'punchng.com', 'indices': [0, 23]}]}, 'description': {'urls': []}}, protected=False, followers_count=5338926, friends_count=2193, listed_count=3290, created_at=datetime.datetime(2009, 3, 14, 0, 27, 10, tzinfo=datetime.timezone.utc), favourites_count=122, utc_offset=None, time_zone=None, geo_enabled=True, verified=True, statuses_count=529700, lang=None, contributors_enabled=False, is_translator=False, is_translation_enabled=False, profile_background_color='EB0909', profile_background_image_url='http://abs.twimg.com/images/themes/theme1/bg.png', profile_background_image_url_https='https://abs.twimg.com/images/themes/theme1/bg.png', profile_background_tile=False, profile_image_url='http://pbs.twimg.com/profile_images/1480515290416963584/EiZOsM_f_normal.jpg', profile_image_url_https='https://pbs.twimg.com/profile_images/1480515290416963584/EiZOsM_f_normal.jpg', profile_banner_url='https://pbs.twimg.com/profile_banners/24291371/1641817325', profile_link_color='1B95E0', profile_sidebar_border_color='FFFFFF', profile_sidebar_fill_color='DDEEF6', profile_text_color='333333', profile_use_background_image=True, has_extended_profile=False, default_profile=False, default_profile_image=False, following=True, follow_request_sent=False, notifications=False, translator_type='none', withheld_in_countries=[]), geo=None, coordinates=None, place=None, contributors=None, is_quote_status=False, retweet_count=1, favorite_count=18, favorited=False, retweeted=False, possibly_sensitive=False, lang='tl')\n"
     ]
    }
   ],
   "source": [
    "# the user_timeline method helps us get the most recent tweets of the user specified\n",
    "# by default, it returns the 20 most recent tweets\n",
    "# we can increase the number of tweets returned but this is capped at 200\n",
    "punch = api.user_timeline(screen_name='MobilePunch', count = 200)\n",
    "print(punch[0])"
   ]
  },
  {
   "cell_type": "markdown",
   "metadata": {},
   "source": [
    "Just like the [`get_status()`](https://www.geeksforgeeks.org/python-api-get_status-in-tweepy/) method, the [`user_timeline()`](https://www.geeksforgeeks.org/python-api-user_timeline-in-tweepy/) method returns a list of python objects for each tweet"
   ]
  },
  {
   "cell_type": "code",
   "execution_count": 26,
   "metadata": {},
   "outputs": [
    {
     "name": "stdout",
     "output_type": "stream",
     "text": [
      "The attributes in this python object are:['__class__', '__delattr__', '__dict__', '__dir__', '__doc__', '__eq__', '__format__', '__ge__', '__getattribute__', '__getstate__', '__gt__', '__hash__', '__init__', '__init_subclass__', '__le__', '__lt__', '__module__', '__ne__', '__new__', '__reduce__', '__reduce_ex__', '__repr__', '__setattr__', '__sizeof__', '__slots__', '__str__', '__subclasshook__', '__weakref__', '_api', '_json', 'author', 'contributors', 'coordinates', 'created_at', 'destroy', 'entities', 'favorite', 'favorite_count', 'favorited', 'geo', 'id', 'id_str', 'in_reply_to_screen_name', 'in_reply_to_status_id', 'in_reply_to_status_id_str', 'in_reply_to_user_id', 'in_reply_to_user_id_str', 'is_quote_status', 'lang', 'parse', 'parse_list', 'place', 'possibly_sensitive', 'retweet', 'retweet_count', 'retweeted', 'retweets', 'source', 'source_url', 'text', 'truncated', 'user']\n"
     ]
    }
   ],
   "source": [
    "# get the attributes of the python object returned\n",
    "print(f'The attributes in this python object are:{dir(punch[0])}')\n"
   ]
  },
  {
   "cell_type": "markdown",
   "metadata": {},
   "source": [
    "##### <b> Task1:</b> \n",
    "Create a dataframe from this data. The dataframe should have the following columns: `tweet_id`, `favorite_count`, `retweet_count`, `article_link`"
   ]
  },
  {
   "cell_type": "markdown",
   "metadata": {},
   "source": [
    "Just like the project, you can work with the json data or just call the attributes of the columns you need"
   ]
  },
  {
   "cell_type": "markdown",
   "metadata": {},
   "source": [
    "Working with the attributes directly..."
   ]
  },
  {
   "cell_type": "code",
   "execution_count": 28,
   "metadata": {},
   "outputs": [
    {
     "name": "stdout",
     "output_type": "stream",
     "text": [
      "{'hashtags': [], 'symbols': [], 'user_mentions': [], 'urls': [{'url': 'https://t.co/AlUArBF9un', 'expanded_url': 'https://punchng.com/after-awoniyi-forest-eye-aribo/?utm_term=Autofeed&utm_medium=Social&utm_source=Twitter#Echobox=1656319166', 'display_url': 'punchng.com/after-awoniyi-…', 'indices': [32, 55]}]}\n"
     ]
    }
   ],
   "source": [
    "for tweet in punch:\n",
    "    print(tweet.entities)\n",
    "    break"
   ]
  },
  {
   "cell_type": "code",
   "execution_count": 29,
   "metadata": {},
   "outputs": [
    {
     "data": {
      "text/plain": [
       "{'tweet_id': 1541349926877241346,\n",
       " 'favorite_count': 18,\n",
       " 'retweet_count': 1,\n",
       " 'link': 'https://punchng.com/after-awoniyi-forest-eye-aribo/?utm_term=Autofeed&utm_medium=Social&utm_source=Twitter#Echobox=1656319166'}"
      ]
     },
     "execution_count": 29,
     "metadata": {},
     "output_type": "execute_result"
    }
   ],
   "source": [
    "punch_list = []\n",
    "no_url = []\n",
    "for tweet in punch:\n",
    "    try:\n",
    "        tweet_id = tweet.id\n",
    "        favorite_count = tweet.favorite_count\n",
    "        retweet_count = tweet.retweet_count\n",
    "        link = tweet.entities['urls'][0]['expanded_url']\n",
    "        punch_list.append({'tweet_id':tweet_id,'favorite_count':favorite_count, 'retweet_count':retweet_count, 'link':link})\n",
    "\n",
    "    except Exception as e:\n",
    "        no_url.append({tweet.id:e})\n",
    "        pass\n",
    "\n",
    "punch_list[0]"
   ]
  },
  {
   "cell_type": "code",
   "execution_count": 38,
   "metadata": {},
   "outputs": [
    {
     "data": {
      "text/html": [
       "<div>\n",
       "<style scoped>\n",
       "    .dataframe tbody tr th:only-of-type {\n",
       "        vertical-align: middle;\n",
       "    }\n",
       "\n",
       "    .dataframe tbody tr th {\n",
       "        vertical-align: top;\n",
       "    }\n",
       "\n",
       "    .dataframe thead th {\n",
       "        text-align: right;\n",
       "    }\n",
       "</style>\n",
       "<table border=\"1\" class=\"dataframe\">\n",
       "  <thead>\n",
       "    <tr style=\"text-align: right;\">\n",
       "      <th></th>\n",
       "      <th>tweet_id</th>\n",
       "      <th>favorite_count</th>\n",
       "      <th>retweet_count</th>\n",
       "      <th>link</th>\n",
       "    </tr>\n",
       "  </thead>\n",
       "  <tbody>\n",
       "    <tr>\n",
       "      <th>0</th>\n",
       "      <td>1541349926877241346</td>\n",
       "      <td>18</td>\n",
       "      <td>1</td>\n",
       "      <td>https://punchng.com/after-awoniyi-forest-eye-a...</td>\n",
       "    </tr>\n",
       "    <tr>\n",
       "      <th>1</th>\n",
       "      <td>1541347086679130112</td>\n",
       "      <td>45</td>\n",
       "      <td>5</td>\n",
       "      <td>https://punchng.com/moses-trains-alone-after-s...</td>\n",
       "    </tr>\n",
       "    <tr>\n",
       "      <th>2</th>\n",
       "      <td>1541344281398546432</td>\n",
       "      <td>31</td>\n",
       "      <td>2</td>\n",
       "      <td>https://punchng.com/four-psl-clubs-battle-for-...</td>\n",
       "    </tr>\n",
       "    <tr>\n",
       "      <th>3</th>\n",
       "      <td>1541342051287142400</td>\n",
       "      <td>31</td>\n",
       "      <td>2</td>\n",
       "      <td>https://punchng.com/discospayment-to-gencos-dr...</td>\n",
       "    </tr>\n",
       "    <tr>\n",
       "      <th>4</th>\n",
       "      <td>1541339143229374464</td>\n",
       "      <td>14</td>\n",
       "      <td>9</td>\n",
       "      <td>https://punchng.com/telecom-firms-operating-co...</td>\n",
       "    </tr>\n",
       "  </tbody>\n",
       "</table>\n",
       "</div>"
      ],
      "text/plain": [
       "              tweet_id  favorite_count  retweet_count  \\\n",
       "0  1541349926877241346              18              1   \n",
       "1  1541347086679130112              45              5   \n",
       "2  1541344281398546432              31              2   \n",
       "3  1541342051287142400              31              2   \n",
       "4  1541339143229374464              14              9   \n",
       "\n",
       "                                                link  \n",
       "0  https://punchng.com/after-awoniyi-forest-eye-a...  \n",
       "1  https://punchng.com/moses-trains-alone-after-s...  \n",
       "2  https://punchng.com/four-psl-clubs-battle-for-...  \n",
       "3  https://punchng.com/discospayment-to-gencos-dr...  \n",
       "4  https://punchng.com/telecom-firms-operating-co...  "
      ]
     },
     "execution_count": 38,
     "metadata": {},
     "output_type": "execute_result"
    }
   ],
   "source": [
    "punch_df = pd.DataFrame(punch_list)\n",
    "punch_df.head()"
   ]
  },
  {
   "cell_type": "code",
   "execution_count": 30,
   "metadata": {},
   "outputs": [
    {
     "data": {
      "text/plain": [
       "[{1541330746098569217: IndexError('list index out of range')},\n",
       " {1541292923458928640: IndexError('list index out of range')},\n",
       " {1541284430190452737: IndexError('list index out of range')},\n",
       " {1541011103181930496: IndexError('list index out of range')},\n",
       " {1541010866941968385: IndexError('list index out of range')},\n",
       " {1541010439886209026: IndexError('list index out of range')},\n",
       " {1541010072867934209: IndexError('list index out of range')},\n",
       " {1540993251548831744: IndexError('list index out of range')},\n",
       " {1540993239372668929: IndexError('list index out of range')},\n",
       " {1540930651330846721: IndexError('list index out of range')},\n",
       " {1540920299889299458: IndexError('list index out of range')},\n",
       " {1540754718493769729: IndexError('list index out of range')},\n",
       " {1540748601860694017: IndexError('list index out of range')}]"
      ]
     },
     "execution_count": 30,
     "metadata": {},
     "output_type": "execute_result"
    }
   ],
   "source": [
    "no_url"
   ]
  },
  {
   "cell_type": "markdown",
   "metadata": {},
   "source": [
    "Following the pattern from the project..."
   ]
  },
  {
   "cell_type": "code",
   "execution_count": 32,
   "metadata": {},
   "outputs": [],
   "source": [
    "# write the json data to a text file\n",
    "with open('punch_tweets.txt','w') as outfile:\n",
    "    for tweet in punch:\n",
    "        json.dump(tweet._json, outfile)\n",
    "        outfile.write('\\n')"
   ]
  },
  {
   "cell_type": "code",
   "execution_count": null,
   "metadata": {},
   "outputs": [],
   "source": [
    "# read data from the text file into a dataframe\n"
   ]
  },
  {
   "cell_type": "markdown",
   "metadata": {},
   "source": [
    "#### Explaining how the url was gotten from the twitter data returned by the `user_timeline` method"
   ]
  },
  {
   "cell_type": "code",
   "execution_count": 33,
   "metadata": {},
   "outputs": [
    {
     "name": "stdout",
     "output_type": "stream",
     "text": [
      "Status(_api=<tweepy.api.API object at 0x000001AEF7EC3CC0>, _json={'created_at': 'Mon Jun 27 09:17:14 +0000 2022', 'id': 1541349926877241346, 'id_str': '1541349926877241346', 'text': 'After Awoniyi, Forest eye Aribo https://t.co/AlUArBF9un', 'truncated': False, 'entities': {'hashtags': [], 'symbols': [], 'user_mentions': [], 'urls': [{'url': 'https://t.co/AlUArBF9un', 'expanded_url': 'https://punchng.com/after-awoniyi-forest-eye-aribo/?utm_term=Autofeed&utm_medium=Social&utm_source=Twitter#Echobox=1656319166', 'display_url': 'punchng.com/after-awoniyi-…', 'indices': [32, 55]}]}, 'source': '<a href=\"https://www.echobox.com\" rel=\"nofollow\">Echobox</a>', 'in_reply_to_status_id': None, 'in_reply_to_status_id_str': None, 'in_reply_to_user_id': None, 'in_reply_to_user_id_str': None, 'in_reply_to_screen_name': None, 'user': {'id': 24291371, 'id_str': '24291371', 'name': 'Punch Newspapers', 'screen_name': 'MobilePunch', 'location': 'Lagos, Nigeria', 'description': 'This is the official Twitter handle of PUNCH Newspapers, the most widely read newspaper in Nigeria.', 'url': 'https://t.co/JwPtwCGMPv', 'entities': {'url': {'urls': [{'url': 'https://t.co/JwPtwCGMPv', 'expanded_url': 'http://www.punchng.com', 'display_url': 'punchng.com', 'indices': [0, 23]}]}, 'description': {'urls': []}}, 'protected': False, 'followers_count': 5338926, 'friends_count': 2193, 'listed_count': 3290, 'created_at': 'Sat Mar 14 00:27:10 +0000 2009', 'favourites_count': 122, 'utc_offset': None, 'time_zone': None, 'geo_enabled': True, 'verified': True, 'statuses_count': 529700, 'lang': None, 'contributors_enabled': False, 'is_translator': False, 'is_translation_enabled': False, 'profile_background_color': 'EB0909', 'profile_background_image_url': 'http://abs.twimg.com/images/themes/theme1/bg.png', 'profile_background_image_url_https': 'https://abs.twimg.com/images/themes/theme1/bg.png', 'profile_background_tile': False, 'profile_image_url': 'http://pbs.twimg.com/profile_images/1480515290416963584/EiZOsM_f_normal.jpg', 'profile_image_url_https': 'https://pbs.twimg.com/profile_images/1480515290416963584/EiZOsM_f_normal.jpg', 'profile_banner_url': 'https://pbs.twimg.com/profile_banners/24291371/1641817325', 'profile_link_color': '1B95E0', 'profile_sidebar_border_color': 'FFFFFF', 'profile_sidebar_fill_color': 'DDEEF6', 'profile_text_color': '333333', 'profile_use_background_image': True, 'has_extended_profile': False, 'default_profile': False, 'default_profile_image': False, 'following': True, 'follow_request_sent': False, 'notifications': False, 'translator_type': 'none', 'withheld_in_countries': []}, 'geo': None, 'coordinates': None, 'place': None, 'contributors': None, 'is_quote_status': False, 'retweet_count': 1, 'favorite_count': 18, 'favorited': False, 'retweeted': False, 'possibly_sensitive': False, 'lang': 'tl'}, created_at=datetime.datetime(2022, 6, 27, 9, 17, 14, tzinfo=datetime.timezone.utc), id=1541349926877241346, id_str='1541349926877241346', text='After Awoniyi, Forest eye Aribo https://t.co/AlUArBF9un', truncated=False, entities={'hashtags': [], 'symbols': [], 'user_mentions': [], 'urls': [{'url': 'https://t.co/AlUArBF9un', 'expanded_url': 'https://punchng.com/after-awoniyi-forest-eye-aribo/?utm_term=Autofeed&utm_medium=Social&utm_source=Twitter#Echobox=1656319166', 'display_url': 'punchng.com/after-awoniyi-…', 'indices': [32, 55]}]}, source='Echobox', source_url='https://www.echobox.com', in_reply_to_status_id=None, in_reply_to_status_id_str=None, in_reply_to_user_id=None, in_reply_to_user_id_str=None, in_reply_to_screen_name=None, author=User(_api=<tweepy.api.API object at 0x000001AEF7EC3CC0>, _json={'id': 24291371, 'id_str': '24291371', 'name': 'Punch Newspapers', 'screen_name': 'MobilePunch', 'location': 'Lagos, Nigeria', 'description': 'This is the official Twitter handle of PUNCH Newspapers, the most widely read newspaper in Nigeria.', 'url': 'https://t.co/JwPtwCGMPv', 'entities': {'url': {'urls': [{'url': 'https://t.co/JwPtwCGMPv', 'expanded_url': 'http://www.punchng.com', 'display_url': 'punchng.com', 'indices': [0, 23]}]}, 'description': {'urls': []}}, 'protected': False, 'followers_count': 5338926, 'friends_count': 2193, 'listed_count': 3290, 'created_at': 'Sat Mar 14 00:27:10 +0000 2009', 'favourites_count': 122, 'utc_offset': None, 'time_zone': None, 'geo_enabled': True, 'verified': True, 'statuses_count': 529700, 'lang': None, 'contributors_enabled': False, 'is_translator': False, 'is_translation_enabled': False, 'profile_background_color': 'EB0909', 'profile_background_image_url': 'http://abs.twimg.com/images/themes/theme1/bg.png', 'profile_background_image_url_https': 'https://abs.twimg.com/images/themes/theme1/bg.png', 'profile_background_tile': False, 'profile_image_url': 'http://pbs.twimg.com/profile_images/1480515290416963584/EiZOsM_f_normal.jpg', 'profile_image_url_https': 'https://pbs.twimg.com/profile_images/1480515290416963584/EiZOsM_f_normal.jpg', 'profile_banner_url': 'https://pbs.twimg.com/profile_banners/24291371/1641817325', 'profile_link_color': '1B95E0', 'profile_sidebar_border_color': 'FFFFFF', 'profile_sidebar_fill_color': 'DDEEF6', 'profile_text_color': '333333', 'profile_use_background_image': True, 'has_extended_profile': False, 'default_profile': False, 'default_profile_image': False, 'following': True, 'follow_request_sent': False, 'notifications': False, 'translator_type': 'none', 'withheld_in_countries': []}, id=24291371, id_str='24291371', name='Punch Newspapers', screen_name='MobilePunch', location='Lagos, Nigeria', description='This is the official Twitter handle of PUNCH Newspapers, the most widely read newspaper in Nigeria.', url='https://t.co/JwPtwCGMPv', entities={'url': {'urls': [{'url': 'https://t.co/JwPtwCGMPv', 'expanded_url': 'http://www.punchng.com', 'display_url': 'punchng.com', 'indices': [0, 23]}]}, 'description': {'urls': []}}, protected=False, followers_count=5338926, friends_count=2193, listed_count=3290, created_at=datetime.datetime(2009, 3, 14, 0, 27, 10, tzinfo=datetime.timezone.utc), favourites_count=122, utc_offset=None, time_zone=None, geo_enabled=True, verified=True, statuses_count=529700, lang=None, contributors_enabled=False, is_translator=False, is_translation_enabled=False, profile_background_color='EB0909', profile_background_image_url='http://abs.twimg.com/images/themes/theme1/bg.png', profile_background_image_url_https='https://abs.twimg.com/images/themes/theme1/bg.png', profile_background_tile=False, profile_image_url='http://pbs.twimg.com/profile_images/1480515290416963584/EiZOsM_f_normal.jpg', profile_image_url_https='https://pbs.twimg.com/profile_images/1480515290416963584/EiZOsM_f_normal.jpg', profile_banner_url='https://pbs.twimg.com/profile_banners/24291371/1641817325', profile_link_color='1B95E0', profile_sidebar_border_color='FFFFFF', profile_sidebar_fill_color='DDEEF6', profile_text_color='333333', profile_use_background_image=True, has_extended_profile=False, default_profile=False, default_profile_image=False, following=True, follow_request_sent=False, notifications=False, translator_type='none', withheld_in_countries=[]), user=User(_api=<tweepy.api.API object at 0x000001AEF7EC3CC0>, _json={'id': 24291371, 'id_str': '24291371', 'name': 'Punch Newspapers', 'screen_name': 'MobilePunch', 'location': 'Lagos, Nigeria', 'description': 'This is the official Twitter handle of PUNCH Newspapers, the most widely read newspaper in Nigeria.', 'url': 'https://t.co/JwPtwCGMPv', 'entities': {'url': {'urls': [{'url': 'https://t.co/JwPtwCGMPv', 'expanded_url': 'http://www.punchng.com', 'display_url': 'punchng.com', 'indices': [0, 23]}]}, 'description': {'urls': []}}, 'protected': False, 'followers_count': 5338926, 'friends_count': 2193, 'listed_count': 3290, 'created_at': 'Sat Mar 14 00:27:10 +0000 2009', 'favourites_count': 122, 'utc_offset': None, 'time_zone': None, 'geo_enabled': True, 'verified': True, 'statuses_count': 529700, 'lang': None, 'contributors_enabled': False, 'is_translator': False, 'is_translation_enabled': False, 'profile_background_color': 'EB0909', 'profile_background_image_url': 'http://abs.twimg.com/images/themes/theme1/bg.png', 'profile_background_image_url_https': 'https://abs.twimg.com/images/themes/theme1/bg.png', 'profile_background_tile': False, 'profile_image_url': 'http://pbs.twimg.com/profile_images/1480515290416963584/EiZOsM_f_normal.jpg', 'profile_image_url_https': 'https://pbs.twimg.com/profile_images/1480515290416963584/EiZOsM_f_normal.jpg', 'profile_banner_url': 'https://pbs.twimg.com/profile_banners/24291371/1641817325', 'profile_link_color': '1B95E0', 'profile_sidebar_border_color': 'FFFFFF', 'profile_sidebar_fill_color': 'DDEEF6', 'profile_text_color': '333333', 'profile_use_background_image': True, 'has_extended_profile': False, 'default_profile': False, 'default_profile_image': False, 'following': True, 'follow_request_sent': False, 'notifications': False, 'translator_type': 'none', 'withheld_in_countries': []}, id=24291371, id_str='24291371', name='Punch Newspapers', screen_name='MobilePunch', location='Lagos, Nigeria', description='This is the official Twitter handle of PUNCH Newspapers, the most widely read newspaper in Nigeria.', url='https://t.co/JwPtwCGMPv', entities={'url': {'urls': [{'url': 'https://t.co/JwPtwCGMPv', 'expanded_url': 'http://www.punchng.com', 'display_url': 'punchng.com', 'indices': [0, 23]}]}, 'description': {'urls': []}}, protected=False, followers_count=5338926, friends_count=2193, listed_count=3290, created_at=datetime.datetime(2009, 3, 14, 0, 27, 10, tzinfo=datetime.timezone.utc), favourites_count=122, utc_offset=None, time_zone=None, geo_enabled=True, verified=True, statuses_count=529700, lang=None, contributors_enabled=False, is_translator=False, is_translation_enabled=False, profile_background_color='EB0909', profile_background_image_url='http://abs.twimg.com/images/themes/theme1/bg.png', profile_background_image_url_https='https://abs.twimg.com/images/themes/theme1/bg.png', profile_background_tile=False, profile_image_url='http://pbs.twimg.com/profile_images/1480515290416963584/EiZOsM_f_normal.jpg', profile_image_url_https='https://pbs.twimg.com/profile_images/1480515290416963584/EiZOsM_f_normal.jpg', profile_banner_url='https://pbs.twimg.com/profile_banners/24291371/1641817325', profile_link_color='1B95E0', profile_sidebar_border_color='FFFFFF', profile_sidebar_fill_color='DDEEF6', profile_text_color='333333', profile_use_background_image=True, has_extended_profile=False, default_profile=False, default_profile_image=False, following=True, follow_request_sent=False, notifications=False, translator_type='none', withheld_in_countries=[]), geo=None, coordinates=None, place=None, contributors=None, is_quote_status=False, retweet_count=1, favorite_count=18, favorited=False, retweeted=False, possibly_sensitive=False, lang='tl')\n"
     ]
    }
   ],
   "source": [
    "print(punch[0])"
   ]
  },
  {
   "cell_type": "markdown",
   "metadata": {},
   "source": [
    "The news article link (usually starts with '`https://punchng.com/...`') can be found in the expanded url key which is nested in the entities attribute or key"
   ]
  },
  {
   "cell_type": "code",
   "execution_count": 35,
   "metadata": {},
   "outputs": [
    {
     "name": "stdout",
     "output_type": "stream",
     "text": [
      "2: [{'url': 'https://t.co/AlUArBF9un', 'expanded_url': 'https://punchng.com/after-awoniyi-forest-eye-aribo/?utm_term=Autofeed&utm_medium=Social&utm_source=Twitter#Echobox=1656319166', 'display_url': 'punchng.com/after-awoniyi-…', 'indices': [32, 55]}]\n",
      "3: {'url': 'https://t.co/AlUArBF9un', 'expanded_url': 'https://punchng.com/after-awoniyi-forest-eye-aribo/?utm_term=Autofeed&utm_medium=Social&utm_source=Twitter#Echobox=1656319166', 'display_url': 'punchng.com/after-awoniyi-…', 'indices': [32, 55]}\n",
      "4: https://punchng.com/after-awoniyi-forest-eye-aribo/?utm_term=Autofeed&utm_medium=Social&utm_source=Twitter#Echobox=1656319166\n",
      "https://punchng.com/after-awoniyi-forest-eye-aribo/?utm_term=Autofeed&utm_medium=Social&utm_source=Twitter#Echobox=1656319166\n"
     ]
    }
   ],
   "source": [
    "# working with the entities attribute directly\n",
    "for tweet in punch:\n",
    "    entities_dict = tweet.entities\n",
    "    print(f\"2: {entities_dict['urls']}\")\n",
    "    print(f\"3: {entities_dict['urls'][0]}\")\n",
    "    print(f\"4: {entities_dict['urls'][0]['expanded_url']}\")\n",
    "    url = entities_dict['urls'][0]['expanded_url']\n",
    "    print(url)\n",
    "    break"
   ]
  },
  {
   "cell_type": "markdown",
   "metadata": {},
   "source": [
    "#### Next Steps\n",
    "1. Use requests to get the html content of each news article\n",
    "2. Inspect the file to know what html tags contain the news tags\n",
    "3. Use beautiful soup to scrape the news tag data\n",
    "4. Write tags to a dataframe"
   ]
  }
 ],
 "metadata": {
  "kernelspec": {
   "display_name": "Python 3.9.7 ('base')",
   "language": "python",
   "name": "python3"
  },
  "language_info": {
   "codemirror_mode": {
    "name": "ipython",
    "version": 3
   },
   "file_extension": ".py",
   "mimetype": "text/x-python",
   "name": "python",
   "nbconvert_exporter": "python",
   "pygments_lexer": "ipython3",
   "version": "3.9.7"
  },
  "orig_nbformat": 4,
  "vscode": {
   "interpreter": {
    "hash": "5bbe1851e8ef27c06ce02c4170c07d7299c65a993da68f92144f7b7627d84cb9"
   }
  }
 },
 "nbformat": 4,
 "nbformat_minor": 2
}
